{
 "cells": [
  {
   "cell_type": "code",
   "execution_count": 1,
   "id": "a6fa77cf-afd2-479d-9c25-cdad706f3e5d",
   "metadata": {},
   "outputs": [],
   "source": [
    "from keras.models import Sequential\n",
    "from keras.layers import Dense, Flatten, Conv2D, MaxPooling2D, Dropout\n",
    "\n",
    "from art.attacks.evasion import FastGradientMethod\n",
    "from art.estimators.classification import KerasClassifier\n",
    "from art.utils import load_mnist\n",
    "\n",
    "import numpy as np\n",
    "import pandas as pd\n",
    "import tensorflow as tf\n",
    "import matplotlib as mpl\n",
    "import matplotlib.pyplot as plt\n",
    "\n",
    "from sklearn.metrics import accuracy_score, precision_score, recall_score\n",
    "from sklearn.model_selection import train_test_split\n",
    "from tensorflow.keras import layers, losses\n",
    "from tensorflow.keras.datasets import mnist\n",
    "from tensorflow.keras.models import Model\n",
    "import tensorflow.keras as keras\n",
    "from art.utils import load_dataset\n",
    "\n",
    "from art.defences.preprocessor import LabelSmoothing\n"
   ]
  },
  {
   "cell_type": "code",
   "execution_count": 2,
   "id": "b6b1c8a0-e9f1-4732-9519-48886817bba3",
   "metadata": {},
   "outputs": [],
   "source": [
    "(x_train, y_train), (x_test, y_test), min_, max_ = load_dataset(str(\"mnist\"))"
   ]
  },
  {
   "cell_type": "code",
   "execution_count": 3,
   "id": "9f926978-69f1-4078-9340-833f984a3a06",
   "metadata": {},
   "outputs": [
    {
     "name": "stdout",
     "output_type": "stream",
     "text": [
      "(60000, 28, 28, 1)\n"
     ]
    }
   ],
   "source": [
    "x_train = x_train.reshape((60000,28, 28, 1))\n",
    "x_train = x_train.astype('float32') / 255\n",
    "x_test = x_test.reshape((10000, 28, 28, 1))\n",
    "x_test = x_test.astype('float32') / 255\n",
    "\n",
    "print(x_train.shape)"
   ]
  },
  {
   "cell_type": "code",
   "execution_count": null,
   "id": "14fb15bd-5962-4252-9493-c508fe6ba966",
   "metadata": {},
   "outputs": [],
   "source": [
    "#from keras.utils import to_categorical\n",
    "#y_train = to_categorical(y_train)\n",
    "#y_test = to_categorical(y_test)"
   ]
  },
  {
   "cell_type": "code",
   "execution_count": 5,
   "id": "cfa5f3aa-5d41-4107-93f3-14f18288d7ab",
   "metadata": {},
   "outputs": [
    {
     "data": {
      "image/png": "[encoded data removed]",
      "text/plain": [
       "<Figure size 1440x288 with 10 Axes>"
      ]
     },
     "metadata": {
      "needs_background": "light"
     },
     "output_type": "display_data"
    }
   ],
   "source": [
    "import matplotlib as mpl\n",
    "import matplotlib.pyplot as plt\n",
    "n = 10\n",
    "plt.figure(figsize=(20, 4))\n",
    "for i in range(n):\n",
    "\n",
    "    ax = plt.subplot(2, n, i +1 )\n",
    "    plt.imshow(x_test[i])\n",
    "    plt.gray()\n",
    "    ax.get_xaxis().set_visible(False)\n",
    "    ax.get_yaxis().set_visible(False)\n",
    "plt.show()"
   ]
  },
  {
   "cell_type": "code",
   "execution_count": 15,
   "id": "e2d246d9-ebfa-4b45-96fd-d89a64c2fb5e",
   "metadata": {},
   "outputs": [],
   "source": [
    "conv = Sequential()\n",
    "conv.add(Conv2D(16, kernel_size=(3, 3), activation=\"relu\", input_shape=(28,28,1)))\n",
    "conv.add(MaxPooling2D(pool_size=(2, 2)))\n",
    "conv.add(Conv2D(32, (3, 3), activation=\"relu\"))\n",
    "conv.add(MaxPooling2D(pool_size=(2, 2)))\n",
    "conv.add(Conv2D(32, (3, 3), activation=\"relu\"))\n",
    "conv.add(Dropout(0.25))\n",
    "conv.add(Flatten())\n",
    "conv.add(Dense(32, activation=\"relu\"))\n",
    "conv.add(Dropout(0.5))\n",
    "conv.add(Dense(10, activation=\"softmax\"))"
   ]
  },
  {
   "cell_type": "code",
   "execution_count": 16,
   "id": "048ffe52-992c-4546-8619-7cfc56e20460",
   "metadata": {},
   "outputs": [],
   "source": [
    "conv.compile(loss=\"binary_crossentropy\", optimizer=\"adam\", metrics=[\"accuracy\"])"
   ]
  },
  {
   "cell_type": "code",
   "execution_count": 17,
   "id": "48fa9fd4-87d9-476c-b928-10160947b226",
   "metadata": {},
   "outputs": [],
   "source": [
    "tf.compat.v1.disable_eager_execution()"
   ]
  },
  {
   "cell_type": "code",
   "execution_count": 18,
   "id": "7cbde148-7ab1-4b61-b49a-464c2238b1f0",
   "metadata": {},
   "outputs": [
    {
     "name": "stdout",
     "output_type": "stream",
     "text": [
      "WARNING:tensorflow:From D:\\Anaconda\\envs\\tensorflow\\lib\\site-packages\\art\\estimators\\classification\\keras.py:571: Model.fit_generator (from tensorflow.python.keras.engine.training_v1) is deprecated and will be removed in a future version.\n",
      "Instructions for updating:\n",
      "Please use Model.fit, which supports generators.\n",
      "Epoch 1/5\n",
      "466/468 [============================>.] - ETA: 0s - batch: 232.5000 - size: 128.0000 - loss: 0.2943 - accuracy: 0.9047WARNING:tensorflow:From D:\\Anaconda\\envs\\tensorflow\\lib\\site-packages\\tensorflow\\python\\keras\\engine\\training_v1.py:2048: Model.state_updates (from tensorflow.python.keras.engine.training) is deprecated and will be removed in a future version.\n",
      "Instructions for updating:\n",
      "This property should not be used in TensorFlow 2.0, as updates are applied automatically.\n",
      "468/468 [==============================] - 7s 16ms/step - batch: 233.5000 - size: 128.0000 - loss: 0.2939 - accuracy: 0.9048 - val_loss: 0.1425 - val_accuracy: 0.9468\n",
      "Epoch 2/5\n",
      "468/468 [==============================] - 7s 16ms/step - batch: 233.5000 - size: 128.0000 - loss: 0.1599 - accuracy: 0.9381 - val_loss: 0.0815 - val_accuracy: 0.9731\n",
      "Epoch 3/5\n",
      "468/468 [==============================] - 8s 16ms/step - batch: 233.5000 - size: 128.0000 - loss: 0.1266 - accuracy: 0.9516 - val_loss: 0.0598 - val_accuracy: 0.9806\n",
      "Epoch 4/5\n",
      "468/468 [==============================] - 8s 16ms/step - batch: 233.5000 - size: 128.0000 - loss: 0.1097 - accuracy: 0.9591 - val_loss: 0.0505 - val_accuracy: 0.9839\n",
      "Epoch 5/5\n",
      "468/468 [==============================] - 8s 17ms/step - batch: 233.5000 - size: 128.0000 - loss: 0.0969 - accuracy: 0.9646 - val_loss: 0.0432 - val_accuracy: 0.9853\n"
     ]
    }
   ],
   "source": [
    "classifier = KerasClassifier(model=conv, clip_values=(min_, max_))\n",
    "classifier.fit(x_train, y_train, nb_epochs=5, batch_size=128,validation_data=(x_test, y_test))"
   ]
  },
  {
   "cell_type": "code",
   "execution_count": 18,
   "id": "e96b48dc-60e7-4df8-8206-24af7a1aefbf",
   "metadata": {},
   "outputs": [
    {
     "name": "stdout",
     "output_type": "stream",
     "text": [
      "Model: \"sequential_2\"\n",
      "_________________________________________________________________\n",
      "Layer (type)                 Output Shape              Param #   \n",
      "=================================================================\n",
      "conv2d_6 (Conv2D)            (None, 26, 26, 16)        160       \n",
      "_________________________________________________________________\n",
      "max_pooling2d_4 (MaxPooling2 (None, 13, 13, 16)        0         \n",
      "_________________________________________________________________\n",
      "conv2d_7 (Conv2D)            (None, 11, 11, 32)        4640      \n",
      "_________________________________________________________________\n",
      "max_pooling2d_5 (MaxPooling2 (None, 5, 5, 32)          0         \n",
      "_________________________________________________________________\n",
      "conv2d_8 (Conv2D)            (None, 3, 3, 32)          9248      \n",
      "_________________________________________________________________\n",
      "dropout_4 (Dropout)          (None, 3, 3, 32)          0         \n",
      "_________________________________________________________________\n",
      "flatten_2 (Flatten)          (None, 288)               0         \n",
      "_________________________________________________________________\n",
      "dense_4 (Dense)              (None, 32)                9248      \n",
      "_________________________________________________________________\n",
      "dropout_5 (Dropout)          (None, 32)                0         \n",
      "_________________________________________________________________\n",
      "dense_5 (Dense)              (None, 10)                330       \n",
      "=================================================================\n",
      "Total params: 23,626\n",
      "Trainable params: 23,626\n",
      "Non-trainable params: 0\n",
      "_________________________________________________________________\n"
     ]
    }
   ],
   "source": [
    "conv.summary()"
   ]
  },
  {
   "cell_type": "code",
   "execution_count": 19,
   "id": "48f10fe2-596e-41b5-8893-1e1c44a37272",
   "metadata": {},
   "outputs": [
    {
     "name": "stdout",
     "output_type": "stream",
     "text": [
      "\n",
      "Test accuracy: 92.43%\n"
     ]
    }
   ],
   "source": [
    "preds = np.argmax(conv.predict(x_test), axis=1)\n",
    "acc = np.sum(preds == np.argmax(y_test, axis=1)) / y_test.shape[0]\n",
    "print(\"\\nTest accuracy: %.2f%%\" % (acc * 100))"
   ]
  },
  {
   "cell_type": "code",
   "execution_count": 20,
   "id": "3fcd6bbd-5c0e-4144-9401-fb63f02aaaaa",
   "metadata": {},
   "outputs": [],
   "source": [
    "epsilon = 0.001  \n",
    "adv_crafter = FastGradientMethod(classifier, eps=epsilon)\n",
    "x_train_adv = adv_crafter.generate(x=x_train)\n",
    "x_test_adv = adv_crafter.generate(x=x_test)"
   ]
  },
  {
   "cell_type": "code",
   "execution_count": 21,
   "id": "6fc35f39-f1ad-426b-a09b-4b4a964c7651",
   "metadata": {},
   "outputs": [
    {
     "name": "stdout",
     "output_type": "stream",
     "text": [
      "\n",
      "Test accuracy on adversarial example: 10.53%\n"
     ]
    }
   ],
   "source": [
    "# Evaluate the classifier on the adversarial examples\n",
    "preds = np.argmax(classifier.predict(x_test_adv), axis=1)\n",
    "acc = np.sum(preds == np.argmax(y_test, axis=1)) / y_test.shape[0]\n",
    "print(\"\\nTest accuracy on adversarial example: %.2f%%\" % (acc * 100))"
   ]
  },
  {
   "cell_type": "code",
   "execution_count": 22,
   "id": "d332d14f-61c2-4f25-9a84-8cb64955f303",
   "metadata": {},
   "outputs": [
    {
     "data": {
      "image/png": "[encoded data removed]",
      "text/plain": [
       "<Figure size 1440x288 with 20 Axes>"
      ]
     },
     "metadata": {
      "needs_background": "light"
     },
     "output_type": "display_data"
    }
   ],
   "source": [
    "import matplotlib as mpl\n",
    "import matplotlib.pyplot as plt\n",
    "n = 10\n",
    "plt.figure(figsize=(20, 4))\n",
    "predictions = classifier.predict(x_test)\n",
    "prediction = classifier.predict(x_test_adv)\n",
    "for i in range(n):\n",
    "    ax = plt.subplot(2, n, i + 1)\n",
    "    plt.title(np.argmax(np.round(predictions[i])))\n",
    "    plt.imshow(x_test[i].reshape(28, 28), cmap = plt.cm.binary)\n",
    "    ax.get_xaxis().set_visible(False)\n",
    "    ax.get_yaxis().set_visible(False)\n",
    "    \n",
    "\n",
    "    bx = plt.subplot(2, n, i + n + 1)\n",
    "    plt.title(np.argmax(np.round(prediction[i])))\n",
    "    plt.imshow(x_test_adv[i].reshape(28, 28), cmap = plt.cm.binary)\n",
    "    plt.gray()\n",
    "    bx.get_xaxis().set_visible(False)\n",
    "    bx.get_yaxis().set_visible(False)\n",
    "plt.show()"
   ]
  },
  {
   "cell_type": "code",
   "execution_count": 45,
   "id": "13bdd8e1-3ca4-4f05-92cd-fe74abf1194b",
   "metadata": {},
   "outputs": [],
   "source": [
    "(xc_train, yc_train), (xc_test, yc_test) = mnist.load_data()"
   ]
  },
  {
   "cell_type": "code",
   "execution_count": 78,
   "id": "17afdd80-01ce-43fd-8f7f-3788a4ff61e5",
   "metadata": {},
   "outputs": [
    {
     "data": {
      "image/png": "[encoded data removed]",
      "text/plain": [
       "<Figure size 1440x144 with 10 Axes>"
      ]
     },
     "metadata": {
      "needs_background": "light"
     },
     "output_type": "display_data"
    }
   ],
   "source": [
    "n = 10\n",
    "plt.figure(figsize=(20, 2))\n",
    "for i in range(n):\n",
    "    ax = plt.subplot(1, n, i + 1)\n",
    "    plt.imshow(xc_test[i])\n",
    "    ax.get_xaxis().set_visible(False)\n",
    "    ax.get_yaxis().set_visible(False)\n",
    "plt.show()"
   ]
  },
  {
   "cell_type": "code",
   "execution_count": 47,
   "id": "10bb26ab-cd88-4d64-a0d6-c714697ff9ee",
   "metadata": {},
   "outputs": [
    {
     "name": "stdout",
     "output_type": "stream",
     "text": [
      "(60000, 28, 28, 1)\n",
      "(10000, 28, 28, 1)\n"
     ]
    }
   ],
   "source": [
    "xc_train = xc_train.astype('float32') / 255.\n",
    "xc_test = xc_test.astype('float32') / 255.\n",
    "\n",
    "xc_train = xc_train[..., tf.newaxis]\n",
    "xc_test = xc_test[..., tf.newaxis]\n",
    "\n",
    "print(xc_train.shape)\n",
    "print(xc_test.shape)"
   ]
  },
  {
   "cell_type": "code",
   "execution_count": 48,
   "id": "056670ec-02fc-4cb2-ba03-e69f1be3e605",
   "metadata": {},
   "outputs": [],
   "source": [
    "class Denoise(Model):\n",
    "  def __init__(self):\n",
    "    super(Denoise, self).__init__()\n",
    "    self.encoder = tf.keras.Sequential([\n",
    "      layers.Input(shape=(28, 28, 1)),\n",
    "      layers.Conv2D(32, (3, 3), activation='relu', padding='same', strides=2),\n",
    "      layers.Conv2D(16, (3, 3), activation='relu', padding='same', strides=2)])\n",
    "\n",
    "    self.decoder = tf.keras.Sequential([\n",
    "      layers.Conv2DTranspose(16, (3, 3), activation='relu', padding='same', strides=2),\n",
    "      layers.Conv2DTranspose(32, (3, 3), activation='relu', padding='same', strides=2),\n",
    "      layers.Conv2D(1, (3, 3), activation='sigmoid', padding='same')])\n",
    "\n",
    "  def call(self, x):\n",
    "    encoded = self.encoder(x)\n",
    "    decoded = self.decoder(encoded)\n",
    "    return decoded\n",
    "\n",
    "autoencoder = Denoise()\n"
   ]
  },
  {
   "cell_type": "code",
   "execution_count": 49,
   "id": "675df86c-e799-43ca-8764-74c00f3c537c",
   "metadata": {},
   "outputs": [],
   "source": [
    "autoencoder.compile(optimizer='adam',loss=losses.MeanSquaredError(),metrics=[\"accuracy\",tf.keras.metrics.Precision(),tf.keras.metrics.Recall()])"
   ]
  },
  {
   "cell_type": "code",
   "execution_count": 50,
   "id": "412331c3-5f9b-4b96-a5f3-d0ddee0b0554",
   "metadata": {},
   "outputs": [
    {
     "name": "stdout",
     "output_type": "stream",
     "text": [
      "Train on 60000 samples, validate on 10000 samples\n",
      "Epoch 1/7\n",
      "60000/60000 [==============================] - 48s 801us/sample - loss: 0.0355 - accuracy: 0.8093 - precision_6: 0.9591 - recall_6: 0.5204 - val_loss: 0.0148 - val_accuracy: 0.8123 - val_precision_6: 0.9871 - val_recall_6: 0.6568\n",
      "Epoch 2/7\n",
      "60000/60000 [==============================] - 50s 831us/sample - loss: 0.0113 - accuracy: 0.8139 - precision_6: 0.9905 - recall_6: 0.6730 - val_loss: 0.0088 - val_accuracy: 0.8134 - val_precision_6: 0.9934 - val_recall_6: 0.7032\n",
      "Epoch 3/7\n",
      "60000/60000 [==============================] - 49s 821us/sample - loss: 0.0079 - accuracy: 0.8147 - precision_6: 0.9957 - recall_6: 0.6851 - val_loss: 0.0066 - val_accuracy: 0.8140 - val_precision_6: 0.9973 - val_recall_6: 0.6962\n",
      "Epoch 4/7\n",
      "60000/60000 [==============================] - 49s 822us/sample - loss: 0.0062 - accuracy: 0.8151 - precision_6: 0.9978 - recall_6: 0.6883 - val_loss: 0.0061 - val_accuracy: 0.8140 - val_precision_6: 0.9967 - val_recall_6: 0.7340\n",
      "Epoch 5/7\n",
      "60000/60000 [==============================] - 49s 824us/sample - loss: 0.0054 - accuracy: 0.8152 - precision_6: 0.9986 - recall_6: 0.6890 - val_loss: 0.0054 - val_accuracy: 0.8142 - val_precision_6: 0.9980 - val_recall_6: 0.7270\n",
      "Epoch 6/7\n",
      "60000/60000 [==============================] - 54s 898us/sample - loss: 0.0049 - accuracy: 0.8153 - precision_6: 0.9991 - recall_6: 0.6894 - val_loss: 0.0046 - val_accuracy: 0.8144 - val_precision_6: 0.9992 - val_recall_6: 0.6987\n",
      "Epoch 7/7\n",
      "60000/60000 [==============================] - 49s 810us/sample - loss: 0.0046 - accuracy: 0.8154 - precision_6: 0.9993 - recall_6: 0.6897 - val_loss: 0.0043 - val_accuracy: 0.8144 - val_precision_6: 0.9995 - val_recall_6: 0.6883\n"
     ]
    }
   ],
   "source": [
    "his=autoencoder.fit(x_train_adv,xc_train,\n",
    "                epochs=7,\n",
    "                shuffle=True,\n",
    "                validation_data=(x_test_adv,xc_test),\n",
    "               )\n"
   ]
  },
  {
   "cell_type": "code",
   "execution_count": 51,
   "id": "38876cfa-a6e9-4925-b182-64d3ab12d7e3",
   "metadata": {},
   "outputs": [
    {
     "name": "stdout",
     "output_type": "stream",
     "text": [
      "Model: \"denoise_5\"\n",
      "_________________________________________________________________\n",
      "Layer (type)                 Output Shape              Param #   \n",
      "=================================================================\n",
      "sequential_13 (Sequential)   (None, 7, 7, 16)          4944      \n",
      "_________________________________________________________________\n",
      "sequential_14 (Sequential)   multiple                  7249      \n",
      "=================================================================\n",
      "Total params: 12,193\n",
      "Trainable params: 12,193\n",
      "Non-trainable params: 0\n",
      "_________________________________________________________________\n"
     ]
    }
   ],
   "source": [
    "autoencoder.summary()"
   ]
  },
  {
   "cell_type": "code",
   "execution_count": null,
   "id": "396d6988-204d-4880-a002-b8868748c0af",
   "metadata": {},
   "outputs": [],
   "source": [
    "plt.plot(his.history['precision'], label='precision')\n",
    "plt.plot(his.history['recall'], label='recall')\n",
    "plt.plot(his.history['accuracy'], label='accuracy')\n",
    "#plt.plot(history.history['val_accuracy'], label = 'val_accuracy')\n",
    "plt.xlabel('Epoch')\n",
    "plt.ylabel('Metrics')\n",
    "plt.ylim([0.15, 1.1])\n",
    "plt.legend(loc='upper right')"
   ]
  },
  {
   "cell_type": "code",
   "execution_count": 74,
   "id": "d9dac707-14d2-4b64-b8d2-1099ed813cfe",
   "metadata": {},
   "outputs": [
    {
     "data": {
      "image/png": "[encoded data removed]",
      "text/plain": [
       "<Figure size 1440x288 with 20 Axes>"
      ]
     },
     "metadata": {
      "needs_background": "light"
     },
     "output_type": "display_data"
    }
   ],
   "source": [
    "n = 10\n",
    "plt.figure(figsize=(20, 4))\n",
    "prediction_1 = autoencoder.predict(x_test)\n",
    "prediction_2 = autoencoder.predict(x_test_adv)\n",
    "pred_1 = conv.predict(x_test)\n",
    "pred_2 = conv.predict(prediction_2)\n",
    "\n",
    "for i in range(n):\n",
    "    ax = plt.subplot(2, n, i + 1)\n",
    "    plt.title(np.argmax(np.round(pred_1[i])))\n",
    "    \n",
    "    plt.imshow(prediction_1[i])\n",
    "    plt.gray()\n",
    "    ax.get_xaxis().set_visible(False)\n",
    "    ax.get_yaxis().set_visible(False)\n",
    "\n",
    "    bx = plt.subplot(2, n, i + n + 1)\n",
    "    plt.title(np.argmax(np.round(pred_2[i])))\n",
    "    plt.imshow(prediction_2[i])\n",
    "    bx.get_xaxis().set_visible(False)\n",
    "    bx.get_yaxis().set_visible(False)\n",
    "    \n",
    "plt.show()"
   ]
  },
  {
   "cell_type": "code",
   "execution_count": 76,
   "id": "f5e85923-d7cf-4a6a-a75b-ddb09a5b4b55",
   "metadata": {},
   "outputs": [
    {
     "data": {
      "image/png": "[encoded data removed]",
      "text/plain": [
       "<Figure size 1440x288 with 20 Axes>"
      ]
     },
     "metadata": {
      "needs_background": "light"
     },
     "output_type": "display_data"
    }
   ],
   "source": [
    "import matplotlib as mpl\n",
    "import matplotlib.pyplot as plt\n",
    "n = 10\n",
    "plt.figure(figsize=(20, 4))\n",
    "prediction_2 = autoencoder.predict(x_test_adv)\n",
    "prediction = classifier.predict(x_test_adv)\n",
    "\n",
    "for i in range(n):\n",
    "    ax = plt.subplot(2, n, i  + 1)\n",
    "    plt.title(np.argmax(np.round(prediction[i])))\n",
    "    plt.imshow(x_test_adv[i].reshape(28, 28), cmap = plt.cm.binary)\n",
    "    plt.gray()\n",
    "    ax.get_xaxis().set_visible(False)\n",
    "    ax.get_yaxis().set_visible(False)\n",
    "    \n",
    "    bx = plt.subplot(2, n, i + n + 1)\n",
    "    plt.title(np.argmax(np.round(pred_2[i])))\n",
    "    plt.imshow(prediction_2[i])\n",
    "    bx.get_xaxis().set_visible(False)\n",
    "    bx.get_yaxis().set_visible(False)\n",
    "plt.show()"
   ]
  },
  {
   "cell_type": "code",
   "execution_count": null,
   "id": "672c237a-a99e-4477-bc4a-bf6565e7b85b",
   "metadata": {
    "tags": []
   },
   "outputs": [],
   "source": [
    "tf.keras.utils.plot_model(conv, show_shapes=True, rankdir=\"LR\")"
   ]
  },
  {
   "cell_type": "code",
   "execution_count": null,
   "id": "82346e23-90d2-4cb3-91fd-be38e0b7ceb1",
   "metadata": {},
   "outputs": [],
   "source": [
    "tf.keras.utils.plot_model(autoencoder, show_shapes=True, rankdir=\"TB\")"
   ]
  },
  {
   "cell_type": "code",
   "execution_count": null,
   "id": "27dac034-7a1d-449d-a1d9-e2e2f316c104",
   "metadata": {},
   "outputs": [],
   "source": [
    "tf.keras.utils.plot_model(decoder, show_shapes=True, rankdir=\"TB\")"
   ]
  },
  {
   "cell_type": "code",
   "execution_count": null,
   "id": "a5623a70-1f24-463e-95ef-89c2a1910e35",
   "metadata": {},
   "outputs": [],
   "source": []
  }
 ],
 "metadata": {
  "kernelspec": {
   "display_name": "Python 3",
   "language": "python",
   "name": "python3"
  },
  "language_info": {
   "codemirror_mode": {
    "name": "ipython",
    "version": 3
   },
   "file_extension": ".py",
   "mimetype": "text/x-python",
   "name": "python",
   "nbconvert_exporter": "python",
   "pygments_lexer": "ipython3",
   "version": "3.7.10"
  }
 },
 "nbformat": 4,
 "nbformat_minor": 5
}
